{
 "cells": [
  {
   "cell_type": "code",
   "execution_count": 1,
   "id": "17d5e5dd",
   "metadata": {},
   "outputs": [],
   "source": [
    "# Unit 2 Project\n",
    "# Name: Meghan OConnell\n",
    "# Date: 6/16/2023\n",
    "# Due Date: 6/25/2023\n",
    "# Course: CS379-2303A-01 Machine Learning"
   ]
  },
  {
   "cell_type": "code",
   "execution_count": 2,
   "id": "498e616b",
   "metadata": {},
   "outputs": [],
   "source": [
    "# Description:\n",
    "\n",
    "# This is a supervised learning algorithm that uses a dataset\n",
    "#    of patients with high blood pressue from Canada.\n",
    "\n",
    "# This algorithm uses a Decision Tree method to predict whether a\n",
    "#   patient has diabetes based on factors like age, sex and location\n",
    "\n",
    "# I chose the Decision Tree method beocause it's simple and doesn't\n",
    "#    required a lot of coding compared to other models \n",
    "#    (Introduction to Decision Trees: Why Should You Use Them? | \n",
    "#    365 Data Science, 2021)"
   ]
  },
  {
   "cell_type": "code",
   "execution_count": 3,
   "id": "4f6abdc1",
   "metadata": {},
   "outputs": [],
   "source": [
    "# Importing libraries\n",
    "\n",
    "# Pandas is how I'm reading and analyzing my data\n",
    "import pandas as pd\n",
    "\n",
    "# Numpy allows me to work with multidimensional arrays\n",
    "import numpy as np\n",
    "\n",
    "# Matplotlib is a big resource for plotting data\n",
    "import matplotlib.pyplot as plt\n",
    "\n",
    "# I will use seaborn also for plotting data\n",
    "import seaborn as sns\n",
    "\n",
    "# Importing scikit-learn?"
   ]
  },
  {
   "cell_type": "code",
   "execution_count": 4,
   "id": "f04bad0a",
   "metadata": {},
   "outputs": [
    {
     "data": {
      "text/html": [
       "<div>\n",
       "<style scoped>\n",
       "    .dataframe tbody tr th:only-of-type {\n",
       "        vertical-align: middle;\n",
       "    }\n",
       "\n",
       "    .dataframe tbody tr th {\n",
       "        vertical-align: top;\n",
       "    }\n",
       "\n",
       "    .dataframe thead th {\n",
       "        text-align: right;\n",
       "    }\n",
       "</style>\n",
       "<table border=\"1\" class=\"dataframe\">\n",
       "  <thead>\n",
       "    <tr style=\"text-align: right;\">\n",
       "      <th></th>\n",
       "      <th>REF_DATE</th>\n",
       "      <th>GEO</th>\n",
       "      <th>DGUID</th>\n",
       "      <th>Age_group</th>\n",
       "      <th>Sex</th>\n",
       "      <th>High_blood_pressure</th>\n",
       "      <th>Characteristics</th>\n",
       "      <th>UOM</th>\n",
       "      <th>UOM_ID</th>\n",
       "      <th>SCALAR_FACTOR</th>\n",
       "      <th>SCALAR_ID</th>\n",
       "      <th>VECTOR</th>\n",
       "      <th>COORDINATE</th>\n",
       "      <th>VALUE</th>\n",
       "      <th>STATUS</th>\n",
       "      <th>SYMBOL</th>\n",
       "      <th>TERMINATED</th>\n",
       "      <th>DECIMALS</th>\n",
       "    </tr>\n",
       "  </thead>\n",
       "  <tbody>\n",
       "    <tr>\n",
       "      <th>0</th>\n",
       "      <td>1994</td>\n",
       "      <td>Canada</td>\n",
       "      <td>NaN</td>\n",
       "      <td>12-14 years</td>\n",
       "      <td>Males</td>\n",
       "      <td>With high blood pressure</td>\n",
       "      <td>Number of persons</td>\n",
       "      <td>Persons</td>\n",
       "      <td>249</td>\n",
       "      <td>units</td>\n",
       "      <td>0</td>\n",
       "      <td>v1889130</td>\n",
       "      <td>1.3.2.2.1</td>\n",
       "      <td>NaN</td>\n",
       "      <td>F</td>\n",
       "      <td>NaN</td>\n",
       "      <td>NaN</td>\n",
       "      <td>0</td>\n",
       "    </tr>\n",
       "    <tr>\n",
       "      <th>1</th>\n",
       "      <td>1994</td>\n",
       "      <td>Canada</td>\n",
       "      <td>NaN</td>\n",
       "      <td>12-14 years</td>\n",
       "      <td>Males</td>\n",
       "      <td>With high blood pressure</td>\n",
       "      <td>Low 95% confidence interval -  number of persons</td>\n",
       "      <td>Persons</td>\n",
       "      <td>249</td>\n",
       "      <td>units</td>\n",
       "      <td>0</td>\n",
       "      <td>v1889131</td>\n",
       "      <td>1.3.2.2.2</td>\n",
       "      <td>NaN</td>\n",
       "      <td>F</td>\n",
       "      <td>NaN</td>\n",
       "      <td>NaN</td>\n",
       "      <td>0</td>\n",
       "    </tr>\n",
       "    <tr>\n",
       "      <th>2</th>\n",
       "      <td>1994</td>\n",
       "      <td>Canada</td>\n",
       "      <td>NaN</td>\n",
       "      <td>12-14 years</td>\n",
       "      <td>Males</td>\n",
       "      <td>With high blood pressure</td>\n",
       "      <td>High 95% confidence interval - number of persons</td>\n",
       "      <td>Persons</td>\n",
       "      <td>249</td>\n",
       "      <td>units</td>\n",
       "      <td>0</td>\n",
       "      <td>v1889132</td>\n",
       "      <td>1.3.2.2.3</td>\n",
       "      <td>NaN</td>\n",
       "      <td>F</td>\n",
       "      <td>NaN</td>\n",
       "      <td>NaN</td>\n",
       "      <td>0</td>\n",
       "    </tr>\n",
       "    <tr>\n",
       "      <th>3</th>\n",
       "      <td>1994</td>\n",
       "      <td>Canada</td>\n",
       "      <td>NaN</td>\n",
       "      <td>12-14 years</td>\n",
       "      <td>Males</td>\n",
       "      <td>With high blood pressure</td>\n",
       "      <td>Coefficient of variation for number of persons</td>\n",
       "      <td>Persons</td>\n",
       "      <td>249</td>\n",
       "      <td>units</td>\n",
       "      <td>0</td>\n",
       "      <td>v4009575</td>\n",
       "      <td>1.3.2.2.4</td>\n",
       "      <td>NaN</td>\n",
       "      <td>F</td>\n",
       "      <td>NaN</td>\n",
       "      <td>NaN</td>\n",
       "      <td>1</td>\n",
       "    </tr>\n",
       "    <tr>\n",
       "      <th>4</th>\n",
       "      <td>1994</td>\n",
       "      <td>Canada</td>\n",
       "      <td>NaN</td>\n",
       "      <td>12-14 years</td>\n",
       "      <td>Males</td>\n",
       "      <td>With high blood pressure</td>\n",
       "      <td>Percent</td>\n",
       "      <td>Percent</td>\n",
       "      <td>239</td>\n",
       "      <td>units</td>\n",
       "      <td>0</td>\n",
       "      <td>v4009576</td>\n",
       "      <td>1.3.2.2.5</td>\n",
       "      <td>NaN</td>\n",
       "      <td>F</td>\n",
       "      <td>NaN</td>\n",
       "      <td>NaN</td>\n",
       "      <td>1</td>\n",
       "    </tr>\n",
       "  </tbody>\n",
       "</table>\n",
       "</div>"
      ],
      "text/plain": [
       "   REF_DATE     GEO  DGUID    Age_group    Sex       High_blood_pressure  \\\n",
       "0      1994  Canada    NaN  12-14 years  Males  With high blood pressure   \n",
       "1      1994  Canada    NaN  12-14 years  Males  With high blood pressure   \n",
       "2      1994  Canada    NaN  12-14 years  Males  With high blood pressure   \n",
       "3      1994  Canada    NaN  12-14 years  Males  With high blood pressure   \n",
       "4      1994  Canada    NaN  12-14 years  Males  With high blood pressure   \n",
       "\n",
       "                                    Characteristics      UOM  UOM_ID  \\\n",
       "0                                 Number of persons  Persons     249   \n",
       "1  Low 95% confidence interval -  number of persons  Persons     249   \n",
       "2  High 95% confidence interval - number of persons  Persons     249   \n",
       "3    Coefficient of variation for number of persons  Persons     249   \n",
       "4                                           Percent  Percent     239   \n",
       "\n",
       "  SCALAR_FACTOR  SCALAR_ID    VECTOR COORDINATE  VALUE STATUS  SYMBOL  \\\n",
       "0        units           0  v1889130  1.3.2.2.1    NaN      F     NaN   \n",
       "1        units           0  v1889131  1.3.2.2.2    NaN      F     NaN   \n",
       "2        units           0  v1889132  1.3.2.2.3    NaN      F     NaN   \n",
       "3        units           0  v4009575  1.3.2.2.4    NaN      F     NaN   \n",
       "4        units           0  v4009576  1.3.2.2.5    NaN      F     NaN   \n",
       "\n",
       "   TERMINATED  DECIMALS  \n",
       "0         NaN         0  \n",
       "1         NaN         0  \n",
       "2         NaN         0  \n",
       "3         NaN         1  \n",
       "4         NaN         1  "
      ]
     },
     "execution_count": 4,
     "metadata": {},
     "output_type": "execute_result"
    }
   ],
   "source": [
    "#Reading the dataset\n",
    "myData = pd.read_csv(r\"C:\\Users\\letha\\Local Documents\\Jupyter\\CS379\\Unit2\\BloodPressure.csv\")\n",
    "\n",
    "#Printing first 5 rows of data to confirm read was successful\n",
    "myData.head(5)"
   ]
  },
  {
   "cell_type": "code",
   "execution_count": 5,
   "id": "458f2191",
   "metadata": {},
   "outputs": [],
   "source": [
    "# First I'm going to clean the data because there are many features\n",
    "#    here I'm not going to use"
   ]
  },
  {
   "cell_type": "code",
   "execution_count": 6,
   "id": "f968813e",
   "metadata": {},
   "outputs": [
    {
     "data": {
      "text/plain": [
       "(20592, 18)"
      ]
     },
     "execution_count": 6,
     "metadata": {},
     "output_type": "execute_result"
    }
   ],
   "source": [
    "#Getting an idea of the data size\n",
    "myData.shape"
   ]
  },
  {
   "cell_type": "code",
   "execution_count": 7,
   "id": "479a80c9",
   "metadata": {},
   "outputs": [
    {
     "data": {
      "text/plain": [
       "REF_DATE                   0\n",
       "GEO                        0\n",
       "DGUID                  20592\n",
       "Age_group                  0\n",
       "Sex                        0\n",
       "High_blood_pressure        0\n",
       "Characteristics            0\n",
       "UOM                        0\n",
       "UOM_ID                     0\n",
       "SCALAR_FACTOR              0\n",
       "SCALAR_ID                  0\n",
       "VECTOR                     0\n",
       "COORDINATE                 0\n",
       "VALUE                  10592\n",
       "STATUS                  7520\n",
       "SYMBOL                 20592\n",
       "TERMINATED             20592\n",
       "DECIMALS                   0\n",
       "dtype: int64"
      ]
     },
     "execution_count": 7,
     "metadata": {},
     "output_type": "execute_result"
    }
   ],
   "source": [
    "#Counting columns with missing values\n",
    "myData.isna().sum()"
   ]
  },
  {
   "cell_type": "code",
   "execution_count": 8,
   "id": "4073f21b",
   "metadata": {},
   "outputs": [],
   "source": [
    "# Removing empty columns and columns that I just won't need\n",
    "# None of my important columns have missing data\n",
    "myData = myData.drop(['TERMINATED', 'SYMBOL', 'STATUS', 'VALUE', \n",
    "                      'COORDINATE', 'VECTOR', 'DGUID',\n",
    "                      'UOM', 'Characteristics', 'DECIMALS',\n",
    "                      'UOM_ID', 'SCALAR_FACTOR', 'SCALAR_ID'], \n",
    "                       axis=1)"
   ]
  },
  {
   "cell_type": "code",
   "execution_count": 9,
   "id": "412f74e2",
   "metadata": {},
   "outputs": [
    {
     "data": {
      "text/html": [
       "<div>\n",
       "<style scoped>\n",
       "    .dataframe tbody tr th:only-of-type {\n",
       "        vertical-align: middle;\n",
       "    }\n",
       "\n",
       "    .dataframe tbody tr th {\n",
       "        vertical-align: top;\n",
       "    }\n",
       "\n",
       "    .dataframe thead th {\n",
       "        text-align: right;\n",
       "    }\n",
       "</style>\n",
       "<table border=\"1\" class=\"dataframe\">\n",
       "  <thead>\n",
       "    <tr style=\"text-align: right;\">\n",
       "      <th></th>\n",
       "      <th>REF_DATE</th>\n",
       "      <th>GEO</th>\n",
       "      <th>Age_group</th>\n",
       "      <th>Sex</th>\n",
       "      <th>High_blood_pressure</th>\n",
       "    </tr>\n",
       "  </thead>\n",
       "  <tbody>\n",
       "    <tr>\n",
       "      <th>0</th>\n",
       "      <td>1994</td>\n",
       "      <td>Canada</td>\n",
       "      <td>12-14 years</td>\n",
       "      <td>Males</td>\n",
       "      <td>With high blood pressure</td>\n",
       "    </tr>\n",
       "    <tr>\n",
       "      <th>1</th>\n",
       "      <td>1994</td>\n",
       "      <td>Canada</td>\n",
       "      <td>12-14 years</td>\n",
       "      <td>Males</td>\n",
       "      <td>With high blood pressure</td>\n",
       "    </tr>\n",
       "    <tr>\n",
       "      <th>2</th>\n",
       "      <td>1994</td>\n",
       "      <td>Canada</td>\n",
       "      <td>12-14 years</td>\n",
       "      <td>Males</td>\n",
       "      <td>With high blood pressure</td>\n",
       "    </tr>\n",
       "    <tr>\n",
       "      <th>3</th>\n",
       "      <td>1994</td>\n",
       "      <td>Canada</td>\n",
       "      <td>12-14 years</td>\n",
       "      <td>Males</td>\n",
       "      <td>With high blood pressure</td>\n",
       "    </tr>\n",
       "    <tr>\n",
       "      <th>4</th>\n",
       "      <td>1994</td>\n",
       "      <td>Canada</td>\n",
       "      <td>12-14 years</td>\n",
       "      <td>Males</td>\n",
       "      <td>With high blood pressure</td>\n",
       "    </tr>\n",
       "  </tbody>\n",
       "</table>\n",
       "</div>"
      ],
      "text/plain": [
       "   REF_DATE     GEO    Age_group    Sex       High_blood_pressure\n",
       "0      1994  Canada  12-14 years  Males  With high blood pressure\n",
       "1      1994  Canada  12-14 years  Males  With high blood pressure\n",
       "2      1994  Canada  12-14 years  Males  With high blood pressure\n",
       "3      1994  Canada  12-14 years  Males  With high blood pressure\n",
       "4      1994  Canada  12-14 years  Males  With high blood pressure"
      ]
     },
     "execution_count": 9,
     "metadata": {},
     "output_type": "execute_result"
    }
   ],
   "source": [
    "# Viewing snapshot of data to confirm changes\n",
    "myData.head(5)"
   ]
  },
  {
   "cell_type": "code",
   "execution_count": 10,
   "id": "97b634b0",
   "metadata": {
    "scrolled": true
   },
   "outputs": [
    {
     "data": {
      "text/plain": [
       "REF_DATE                int64\n",
       "GEO                    object\n",
       "Age_group              object\n",
       "Sex                    object\n",
       "High_blood_pressure    object\n",
       "dtype: object"
      ]
     },
     "execution_count": 10,
     "metadata": {},
     "output_type": "execute_result"
    }
   ],
   "source": [
    "#Checking data types so I know what I need to change\n",
    "myData.dtypes"
   ]
  },
  {
   "cell_type": "code",
   "execution_count": 11,
   "id": "ff6b12c2",
   "metadata": {},
   "outputs": [
    {
     "name": "stdout",
     "output_type": "stream",
     "text": [
      "['GEO: Canada' 'GEO: Newfoundland and Labrador'\n",
      " 'GEO: Prince Edward Island' 'GEO: Nova Scotia' 'GEO: New Brunswick'\n",
      " 'GEO: Quebec' 'GEO: Ontario' 'GEO: Manitoba' 'GEO: Saskatchewan'\n",
      " 'GEO: Alberta' 'GEO: British Columbia']\n",
      "\n",
      "['Age group: 12-14 years' 'Age group: 12-19 years'\n",
      " 'Age group: 15-19 years' 'Age group: 20-24 years'\n",
      " 'Age group: 20-34 years' 'Age group: 25-34 years'\n",
      " 'Age group: 35-44 years' 'Age group: 45-54 years'\n",
      " 'Age group: 45-64 years' 'Age group: 55-64 years'\n",
      " 'Age group: 65 years and over' 'Age group: 65-74 years'\n",
      " 'Age group: 75 years and over']\n",
      "\n",
      "['Sex: Males' 'Sex: Females']\n",
      "\n",
      "['High blood pressure: With high blood pressure'\n",
      " 'High blood pressure: Without high blood pressure'\n",
      " 'High blood pressure: High blood pressure, not stated']\n"
     ]
    }
   ],
   "source": [
    "# Checking what unique values exist\n",
    "print('GEO: ' + myData['GEO'].unique())\n",
    "print()\n",
    "print('Age group: ' + myData['Age_group'].unique())\n",
    "print()\n",
    "print('Sex: ' + myData['Sex'].unique())\n",
    "print()\n",
    "print('High blood pressure: ' + myData['High_blood_pressure'].unique())\n"
   ]
  },
  {
   "cell_type": "code",
   "execution_count": 12,
   "id": "44f1702e",
   "metadata": {},
   "outputs": [
    {
     "name": "stdout",
     "output_type": "stream",
     "text": [
      "[ 2  5  8  6  4  9  7  3 10  0  1]\n",
      "[1 0]\n"
     ]
    }
   ],
   "source": [
    "# Importing sklearn for the preprocessing properties\n",
    "from sklearn.preprocessing import LabelEncoder\n",
    "labelEncoder = LabelEncoder()\n",
    "\n",
    "# Changing data types from 'GEO' and 'Sex'\n",
    "myData.iloc[:, 1] = labelEncoder.fit_transform(myData.iloc[:, 1].values)\n",
    "myData.iloc[:, 3] = labelEncoder.fit_transform(myData.iloc[:, 3].values)\n",
    "\n",
    "# Checking my work\n",
    "print(myData['GEO'].unique())\n",
    "print(myData['Sex'].unique())\n"
   ]
  },
  {
   "cell_type": "code",
   "execution_count": 13,
   "id": "f2efbaaa",
   "metadata": {},
   "outputs": [
    {
     "name": "stdout",
     "output_type": "stream",
     "text": [
      "[12 15 20 25 35 45 55 65 75]\n"
     ]
    }
   ],
   "source": [
    "# Changing age group column\n",
    "# I did it this way because I wanted the age groups to have\n",
    "#    specific values for the minimum age of each group\n",
    "\n",
    "ageGroup={'12-14 years':12, '12-19 years':12, '15-19 years':15, \n",
    "          '20-24 years':20, '20-34 years':20, '25-34 years':25,\n",
    "          '35-44 years':35, '45-54 years':45, '45-64 years':45,\n",
    "          '55-64 years':55, '65 years and over':65,\n",
    "          '65-74 years':65, '75 years and over':75}\n",
    "myData.Age_group = myData.Age_group.map(ageGroup)\n",
    "\n",
    "# Checking my work\n",
    "print(myData['Age_group'].unique())"
   ]
  },
  {
   "cell_type": "code",
   "execution_count": 14,
   "id": "77cf99b0",
   "metadata": {},
   "outputs": [
    {
     "name": "stdout",
     "output_type": "stream",
     "text": [
      "[1 0 5]\n"
     ]
    }
   ],
   "source": [
    "# Changing high blood pressure column to an int data type\n",
    "# I also wanted these to be mapped to specific values\n",
    "\n",
    "bloodPressure1={'With high blood pressure':1,\n",
    " 'Without high blood pressure':0,\n",
    " 'High blood pressure, not stated':5}\n",
    "\n",
    "myData.High_blood_pressure = myData.High_blood_pressure.map(bloodPressure1)\n",
    "\n",
    "# Checking my work\n",
    "print(myData['High_blood_pressure'].unique())"
   ]
  },
  {
   "cell_type": "code",
   "execution_count": 15,
   "id": "7a0d0777",
   "metadata": {},
   "outputs": [
    {
     "data": {
      "text/plain": [
       "REF_DATE               int64\n",
       "GEO                    int32\n",
       "Age_group              int64\n",
       "Sex                    int32\n",
       "High_blood_pressure    int64\n",
       "dtype: object"
      ]
     },
     "execution_count": 15,
     "metadata": {},
     "output_type": "execute_result"
    }
   ],
   "source": [
    "# Checking that all data types have been changed\n",
    "myData.dtypes"
   ]
  },
  {
   "cell_type": "code",
   "execution_count": 16,
   "id": "3cbf126b",
   "metadata": {
    "scrolled": true
   },
   "outputs": [
    {
     "data": {
      "text/plain": [
       "(20592, 5)"
      ]
     },
     "execution_count": 16,
     "metadata": {},
     "output_type": "execute_result"
    }
   ],
   "source": [
    "# Checking size of the file after changes\n",
    "myData.shape"
   ]
  },
  {
   "cell_type": "code",
   "execution_count": 17,
   "id": "b9cce177",
   "metadata": {},
   "outputs": [],
   "source": [
    "# My decision tree is going to use the CART algorithm, as per\n",
    "#    (Decision Tree Algorithm in Machine Learning - Javatpoint, \n",
    "#    2021)"
   ]
  },
  {
   "cell_type": "code",
   "execution_count": 18,
   "id": "27ff5e3e",
   "metadata": {},
   "outputs": [],
   "source": [
    "# Extracting Independent and Dependent variables using \n",
    "#    an integer location pandas function\n",
    "#    my y is the blood pressure column since that's what we're \n",
    "#    predicting\n",
    "\n",
    "x = myData.iloc[:, 0:4]\n",
    "y = myData.iloc[:, 4]"
   ]
  },
  {
   "cell_type": "code",
   "execution_count": 19,
   "id": "b438feda",
   "metadata": {},
   "outputs": [],
   "source": [
    "# I'm going to use 80% of my data to train the algorithm since \n",
    "#    this is a supervised algorithm.  20% will be for testing\n",
    "\n",
    "from sklearn.model_selection import train_test_split\n",
    "x_train, x_test, y_train, y_test = train_test_split(x,y, test_size \n",
    "                    = 0.2, random_state = 0)"
   ]
  },
  {
   "cell_type": "code",
   "execution_count": 20,
   "id": "3d67c930",
   "metadata": {},
   "outputs": [],
   "source": [
    "# Feature scaling to make sure my data is standardized\n",
    "from sklearn.preprocessing import StandardScaler\n",
    "st_x = StandardScaler()\n",
    "x_train = st_x.fit_transform(x_train)\n",
    "x_test = st_x.transform(x_test)"
   ]
  },
  {
   "cell_type": "code",
   "execution_count": 21,
   "id": "d45b4b2a",
   "metadata": {},
   "outputs": [
    {
     "data": {
      "text/plain": [
       "DecisionTreeClassifier(criterion='entropy', random_state=0)"
      ]
     },
     "execution_count": 21,
     "metadata": {},
     "output_type": "execute_result"
    }
   ],
   "source": [
    "# Connecting the model to the training set\n",
    "from sklearn.tree import DecisionTreeClassifier\n",
    "classifier = DecisionTreeClassifier(criterion='entropy', random_state=0)\n",
    "classifier.fit(x_train,y_train)"
   ]
  },
  {
   "cell_type": "code",
   "execution_count": 22,
   "id": "f51c49ef",
   "metadata": {},
   "outputs": [],
   "source": [
    "# Predictng the test set result\n",
    "y_pred = classifier.predict(x_test)"
   ]
  },
  {
   "cell_type": "markdown",
   "id": "33b20974",
   "metadata": {},
   "source": [
    "### References\n",
    "Decision Tree Algorithm in Machine Learning - Javatpoint. (2021). Www.javatpoint.com. https://www.javatpoint.com/machine-learning-decision-tree-classification-algorithm\n",
    "\n",
    "Elam, D. (2023, June 13). Unit 1 Live Chat: Introduction [chat]. Retrieved from Colorado Technical University, Virtual Campus, CS379-2303A-01: https://campus.ctuonline.edu\n",
    "\n",
    "Elam, D. (2023, June 20). Unit 2 Live Chat: Machine Learning Algorithms [chat]. Retrieved from Colorado Technical University, Virtual Campus, CS379-2303A-01: https://campus.ctuonline.edu\n",
    "\n",
    "Introduction to Decision Trees: Why Should You Use Them? | 365 Data Science. (2021, November 17). 365 Data Science. https://365datascience.com/tutorials/machine-learning-tutorials/decision-trees/\n",
    "\n",
    "Tracyrenee. (2021, July 22). Using KMeans clustering to predict survivors of the Titanic. Medium; MLearning.ai. https://medium.com/mlearning-ai/using-kmeans-clustering-to-predict-survivors-of-the-titanic-ae3d3e959eb8\n",
    "\n",
    "Randerson112358. (2019, July 22). Titanic Survival Prediction Using Machine Learning - Better Programming. Medium; Better Programming. https://betterprogramming.pub/titanic-survival-prediction-using-machine-learning-4c5ff1e3fa16"
   ]
  }
 ],
 "metadata": {
  "kernelspec": {
   "display_name": "Python 3",
   "language": "python",
   "name": "python3"
  },
  "language_info": {
   "codemirror_mode": {
    "name": "ipython",
    "version": 3
   },
   "file_extension": ".py",
   "mimetype": "text/x-python",
   "name": "python",
   "nbconvert_exporter": "python",
   "pygments_lexer": "ipython3",
   "version": "3.8.8"
  }
 },
 "nbformat": 4,
 "nbformat_minor": 5
}
