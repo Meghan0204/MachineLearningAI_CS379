{
 "cells": [
  {
   "cell_type": "code",
   "execution_count": 1,
   "id": "3ebda321",
   "metadata": {},
   "outputs": [],
   "source": [
    "# Unit 3 Project\n",
    "# Name: Meghan OConnell\n",
    "# Date: 06/29/2023\n",
    "# Due Date: 07/02/2023\n",
    "# Course: CS379-2303A-01 Machine Learning"
   ]
  },
  {
   "cell_type": "code",
   "execution_count": 2,
   "id": "ee1a98ef",
   "metadata": {},
   "outputs": [],
   "source": [
    "# Description: I chose to use a Decision Tree algorithm to determine which transactions\n",
    "#    were going to be fraudulent based on the data set"
   ]
  },
  {
   "cell_type": "code",
   "execution_count": 3,
   "id": "fd6f6e92",
   "metadata": {},
   "outputs": [],
   "source": [
    "# Importing the necessary libraries\n",
    "\n",
    "# Pandas is how I'm reading and analyzing my data\n",
    "import pandas as pd\n",
    "\n",
    "# Matplotlib is a big resource for plotting data\n",
    "import matplotlib.pyplot as plt\n",
    "\n",
    "# I will use seaborn also for plotting data\n",
    "import seaborn as sns\n",
    "\n",
    "# Importing sklearn for the machine learning capabilities\n",
    "import sklearn\n"
   ]
  },
  {
   "cell_type": "code",
   "execution_count": 4,
   "id": "daa91bf9",
   "metadata": {
    "scrolled": true
   },
   "outputs": [
    {
     "data": {
      "text/html": [
       "<div>\n",
       "<style scoped>\n",
       "    .dataframe tbody tr th:only-of-type {\n",
       "        vertical-align: middle;\n",
       "    }\n",
       "\n",
       "    .dataframe tbody tr th {\n",
       "        vertical-align: top;\n",
       "    }\n",
       "\n",
       "    .dataframe thead th {\n",
       "        text-align: right;\n",
       "    }\n",
       "</style>\n",
       "<table border=\"1\" class=\"dataframe\">\n",
       "  <thead>\n",
       "    <tr style=\"text-align: right;\">\n",
       "      <th></th>\n",
       "      <th>id</th>\n",
       "      <th>over_draft</th>\n",
       "      <th>credit_usage</th>\n",
       "      <th>credit_history</th>\n",
       "      <th>purpose</th>\n",
       "      <th>current_balance</th>\n",
       "      <th>Average_Credit_Balance</th>\n",
       "      <th>employment</th>\n",
       "      <th>location</th>\n",
       "      <th>personal_status</th>\n",
       "      <th>...</th>\n",
       "      <th>property_magnitude</th>\n",
       "      <th>cc_age</th>\n",
       "      <th>other_payment_plans</th>\n",
       "      <th>housing</th>\n",
       "      <th>existing_credits</th>\n",
       "      <th>job</th>\n",
       "      <th>num_dependents</th>\n",
       "      <th>own_telephone</th>\n",
       "      <th>foreign_worker</th>\n",
       "      <th>class</th>\n",
       "    </tr>\n",
       "  </thead>\n",
       "  <tbody>\n",
       "    <tr>\n",
       "      <th>0</th>\n",
       "      <td>1</td>\n",
       "      <td>&lt;0</td>\n",
       "      <td>6</td>\n",
       "      <td>critical/other existing credit</td>\n",
       "      <td>radio/tv</td>\n",
       "      <td>1169</td>\n",
       "      <td>no known savings</td>\n",
       "      <td>&gt;=7</td>\n",
       "      <td>4</td>\n",
       "      <td>male single</td>\n",
       "      <td>...</td>\n",
       "      <td>real estate</td>\n",
       "      <td>67</td>\n",
       "      <td>none</td>\n",
       "      <td>own</td>\n",
       "      <td>2</td>\n",
       "      <td>skilled</td>\n",
       "      <td>1</td>\n",
       "      <td>yes</td>\n",
       "      <td>yes</td>\n",
       "      <td>good</td>\n",
       "    </tr>\n",
       "    <tr>\n",
       "      <th>1</th>\n",
       "      <td>2</td>\n",
       "      <td>0&lt;=X&lt;200</td>\n",
       "      <td>48</td>\n",
       "      <td>existing paid</td>\n",
       "      <td>radio/tv</td>\n",
       "      <td>5951</td>\n",
       "      <td>&lt;100</td>\n",
       "      <td>1&lt;=X&lt;4</td>\n",
       "      <td>2</td>\n",
       "      <td>female div/dep/mar</td>\n",
       "      <td>...</td>\n",
       "      <td>real estate</td>\n",
       "      <td>22</td>\n",
       "      <td>none</td>\n",
       "      <td>own</td>\n",
       "      <td>1</td>\n",
       "      <td>skilled</td>\n",
       "      <td>1</td>\n",
       "      <td>none</td>\n",
       "      <td>yes</td>\n",
       "      <td>bad</td>\n",
       "    </tr>\n",
       "    <tr>\n",
       "      <th>2</th>\n",
       "      <td>3</td>\n",
       "      <td>no checking</td>\n",
       "      <td>12</td>\n",
       "      <td>critical/other existing credit</td>\n",
       "      <td>education</td>\n",
       "      <td>2096</td>\n",
       "      <td>&lt;100</td>\n",
       "      <td>4&lt;=X&lt;7</td>\n",
       "      <td>2</td>\n",
       "      <td>male single</td>\n",
       "      <td>...</td>\n",
       "      <td>real estate</td>\n",
       "      <td>49</td>\n",
       "      <td>none</td>\n",
       "      <td>own</td>\n",
       "      <td>1</td>\n",
       "      <td>unskilled resident</td>\n",
       "      <td>2</td>\n",
       "      <td>none</td>\n",
       "      <td>yes</td>\n",
       "      <td>good</td>\n",
       "    </tr>\n",
       "    <tr>\n",
       "      <th>3</th>\n",
       "      <td>4</td>\n",
       "      <td>&lt;0</td>\n",
       "      <td>42</td>\n",
       "      <td>existing paid</td>\n",
       "      <td>furniture/equipment</td>\n",
       "      <td>7882</td>\n",
       "      <td>&lt;100</td>\n",
       "      <td>4&lt;=X&lt;7</td>\n",
       "      <td>2</td>\n",
       "      <td>male single</td>\n",
       "      <td>...</td>\n",
       "      <td>life insurance</td>\n",
       "      <td>45</td>\n",
       "      <td>none</td>\n",
       "      <td>for free</td>\n",
       "      <td>1</td>\n",
       "      <td>skilled</td>\n",
       "      <td>2</td>\n",
       "      <td>none</td>\n",
       "      <td>yes</td>\n",
       "      <td>good</td>\n",
       "    </tr>\n",
       "    <tr>\n",
       "      <th>4</th>\n",
       "      <td>5</td>\n",
       "      <td>&lt;0</td>\n",
       "      <td>24</td>\n",
       "      <td>delayed previously</td>\n",
       "      <td>new car</td>\n",
       "      <td>4870</td>\n",
       "      <td>&lt;100</td>\n",
       "      <td>1&lt;=X&lt;4</td>\n",
       "      <td>3</td>\n",
       "      <td>male single</td>\n",
       "      <td>...</td>\n",
       "      <td>no known property</td>\n",
       "      <td>53</td>\n",
       "      <td>none</td>\n",
       "      <td>for free</td>\n",
       "      <td>2</td>\n",
       "      <td>skilled</td>\n",
       "      <td>2</td>\n",
       "      <td>none</td>\n",
       "      <td>yes</td>\n",
       "      <td>bad</td>\n",
       "    </tr>\n",
       "  </tbody>\n",
       "</table>\n",
       "<p>5 rows × 22 columns</p>\n",
       "</div>"
      ],
      "text/plain": [
       "   id   over_draft  credit_usage                  credit_history  \\\n",
       "0   1           <0             6  critical/other existing credit   \n",
       "1   2     0<=X<200            48                   existing paid   \n",
       "2   3  no checking            12  critical/other existing credit   \n",
       "3   4           <0            42                   existing paid   \n",
       "4   5           <0            24              delayed previously   \n",
       "\n",
       "               purpose  current_balance Average_Credit_Balance employment  \\\n",
       "0             radio/tv             1169       no known savings        >=7   \n",
       "1             radio/tv             5951                   <100     1<=X<4   \n",
       "2            education             2096                   <100     4<=X<7   \n",
       "3  furniture/equipment             7882                   <100     4<=X<7   \n",
       "4              new car             4870                   <100     1<=X<4   \n",
       "\n",
       "   location     personal_status  ... property_magnitude  cc_age  \\\n",
       "0         4         male single  ...        real estate      67   \n",
       "1         2  female div/dep/mar  ...        real estate      22   \n",
       "2         2         male single  ...        real estate      49   \n",
       "3         2         male single  ...     life insurance      45   \n",
       "4         3         male single  ...  no known property      53   \n",
       "\n",
       "  other_payment_plans   housing existing_credits                 job  \\\n",
       "0                none       own                2             skilled   \n",
       "1                none       own                1             skilled   \n",
       "2                none       own                1  unskilled resident   \n",
       "3                none  for free                1             skilled   \n",
       "4                none  for free                2             skilled   \n",
       "\n",
       "   num_dependents own_telephone  foreign_worker class  \n",
       "0               1           yes             yes  good  \n",
       "1               1          none             yes   bad  \n",
       "2               2          none             yes  good  \n",
       "3               2          none             yes  good  \n",
       "4               2          none             yes   bad  \n",
       "\n",
       "[5 rows x 22 columns]"
      ]
     },
     "execution_count": 4,
     "metadata": {},
     "output_type": "execute_result"
    }
   ],
   "source": [
    "#Reading the dataset\n",
    "myData = pd.read_csv(r\"C:\\Users\\letha\\Local Documents\\Jupyter\\CS379\\credit_fraud.csv\")\n",
    "\n",
    "#Printing first 5 rows of data to confirm read was successful\n",
    "myData.head(5)"
   ]
  },
  {
   "cell_type": "code",
   "execution_count": 5,
   "id": "e6018b2e",
   "metadata": {
    "scrolled": true
   },
   "outputs": [
    {
     "name": "stdout",
     "output_type": "stream",
     "text": [
      "Column breakdown:\n",
      "Index(['id', 'over_draft', 'credit_usage', 'credit_history', 'purpose',\n",
      "       'current_balance', 'Average_Credit_Balance', 'employment', 'location',\n",
      "       'personal_status', 'other_parties', 'residence_since',\n",
      "       'property_magnitude', 'cc_age', 'other_payment_plans', 'housing',\n",
      "       'existing_credits', 'job', 'num_dependents', 'own_telephone',\n",
      "       'foreign_worker', 'class'],\n",
      "      dtype='object')\n",
      "\n",
      "Columns x Rows:\n",
      "(1000, 22)\n",
      "\n",
      "Good and bad transaction count:\n"
     ]
    },
    {
     "data": {
      "text/plain": [
       "good    700\n",
       "bad     300\n",
       "Name: class, dtype: int64"
      ]
     },
     "execution_count": 5,
     "metadata": {},
     "output_type": "execute_result"
    }
   ],
   "source": [
    "# Checking out the data\n",
    "\n",
    "# Checking what columns exist\n",
    "print('Column breakdown:')\n",
    "print(myData.columns)\n",
    "print()\n",
    "\n",
    "#Counting rows and columns\n",
    "print(\"Columns x Rows:\")\n",
    "print(myData.shape)\n",
    "print()\n",
    "\n",
    "#Counting good transactions (non-fraud), versus bad transactions (fraud)\n",
    "print('Good and bad transaction count:')\n",
    "myData['class'].value_counts()"
   ]
  },
  {
   "cell_type": "code",
   "execution_count": 6,
   "id": "3dc44b02",
   "metadata": {
    "scrolled": false
   },
   "outputs": [
    {
     "data": {
      "text/plain": [
       "id                        0\n",
       "over_draft                0\n",
       "credit_usage              0\n",
       "credit_history            0\n",
       "purpose                   0\n",
       "current_balance           0\n",
       "Average_Credit_Balance    0\n",
       "employment                0\n",
       "location                  0\n",
       "personal_status           0\n",
       "other_parties             0\n",
       "residence_since           0\n",
       "property_magnitude        0\n",
       "cc_age                    0\n",
       "other_payment_plans       0\n",
       "housing                   0\n",
       "existing_credits          0\n",
       "job                       0\n",
       "num_dependents            0\n",
       "own_telephone             0\n",
       "foreign_worker            0\n",
       "class                     0\n",
       "dtype: int64"
      ]
     },
     "execution_count": 6,
     "metadata": {},
     "output_type": "execute_result"
    }
   ],
   "source": [
    "# Checking for empty rows\n",
    "myData.isnull().sum()"
   ]
  },
  {
   "cell_type": "code",
   "execution_count": 7,
   "id": "91019bfd",
   "metadata": {
    "scrolled": false
   },
   "outputs": [
    {
     "data": {
      "text/plain": [
       "id                         int64\n",
       "over_draft                object\n",
       "credit_usage               int64\n",
       "credit_history            object\n",
       "purpose                   object\n",
       "current_balance            int64\n",
       "Average_Credit_Balance    object\n",
       "employment                object\n",
       "location                   int64\n",
       "personal_status           object\n",
       "other_parties             object\n",
       "residence_since            int64\n",
       "property_magnitude        object\n",
       "cc_age                     int64\n",
       "other_payment_plans       object\n",
       "housing                   object\n",
       "existing_credits           int64\n",
       "job                       object\n",
       "num_dependents             int64\n",
       "own_telephone             object\n",
       "foreign_worker            object\n",
       "class                     object\n",
       "dtype: object"
      ]
     },
     "execution_count": 7,
     "metadata": {},
     "output_type": "execute_result"
    }
   ],
   "source": [
    "# Checking data types of each column\n",
    "myData.dtypes"
   ]
  },
  {
   "cell_type": "code",
   "execution_count": 8,
   "id": "e2ca3a53",
   "metadata": {
    "scrolled": true
   },
   "outputs": [
    {
     "name": "stdout",
     "output_type": "stream",
     "text": [
      "credit_history: ['critical/other existing credit' 'existing paid' 'delayed previously'\n",
      " 'no credits/all paid' 'all paid']\n",
      "credit_history: [1 3 2 4 0]\n",
      "\n",
      "purpose: ['radio/tv' 'education' 'furniture/equipment' 'new car' 'used car'\n",
      " 'business' 'domestic appliance' 'repairs' 'other' 'retraining']\n",
      "purpose: [6 2 3 4 9 0 1 7 5 8]\n",
      "\n",
      "Average_Credit_Balance: ['no known savings' '<100' '500<=X<1000' '>=1000' '100<=X<500']\n",
      "Average_Credit_Balance: [4 2 1 3 0]\n",
      "\n",
      "employment: ['>=7' '1<=X<4' '4<=X<7' 'unemployed' '<1']\n",
      "employment: [3 0 1 4 2]\n",
      "\n",
      "personal_status: ['male single' 'female div/dep/mar' 'male div/sep' 'male mar/wid']\n",
      "personal_status: [3 0 1 2]\n",
      "\n",
      "other_parties: ['none' 'guarantor' 'co applicant']\n",
      "other_parties: [2 1 0]\n",
      "\n",
      "property_magnitude: ['real estate' 'life insurance' 'no known property' 'car']\n",
      "property_magnitude: [3 1 2 0]\n",
      "\n",
      "other_payment_plans: ['none' 'bank' 'stores']\n",
      "other_payment_plans: [1 0 2]\n",
      "\n",
      "housing: ['own' 'for free' 'rent']\n",
      "housing: [1 0 2]\n",
      "\n",
      "job: ['skilled' 'unskilled resident' 'high qualif/self emp/mgmt'\n",
      " 'unemp/unskilled non res']\n",
      "job: [1 3 0 2]\n",
      "\n",
      "own_telephone: ['yes' 'none']\n",
      "own_telephone: [1 0]\n",
      "\n",
      "foreign_worker: ['yes' 'no']\n",
      "foreign_worker: [1 0]\n",
      "\n",
      "class: ['good' 'bad']\n",
      "class: [1 0]\n",
      "\n"
     ]
    }
   ],
   "source": [
    "# Changing each of the values above to numbers\n",
    "#   I made sure to show the before and after of each column\n",
    "from sklearn.preprocessing import LabelEncoder\n",
    "labelEncoder = LabelEncoder()\n",
    "\n",
    "print('credit_history: {}' .format(myData['credit_history'].unique())) # index 3\n",
    "myData.iloc[:, 3] = labelEncoder.fit_transform(myData.iloc[:, 3].values)\n",
    "print('credit_history: {}' .format(myData['credit_history'].unique())) # index 3\n",
    "print()\n",
    "\n",
    "print('purpose: {}' .format(myData['purpose'].unique())) # index 4\n",
    "myData.iloc[:, 4] = labelEncoder.fit_transform(myData.iloc[:, 4].values)\n",
    "print('purpose: {}' .format(myData['purpose'].unique())) # index 4\n",
    "print()\n",
    "\n",
    "print('Average_Credit_Balance: {}' .format(myData['Average_Credit_Balance'].unique())) # index 6\n",
    "myData.iloc[:, 6] = labelEncoder.fit_transform(myData.iloc[:, 6].values)\n",
    "print('Average_Credit_Balance: {}' .format(myData['Average_Credit_Balance'].unique())) # index 6\n",
    "print()\n",
    "\n",
    "print('employment: {}' .format(myData['employment'].unique())) # index 7\n",
    "myData.iloc[:, 7] = labelEncoder.fit_transform(myData.iloc[:, 7].values)\n",
    "print('employment: {}' .format(myData['employment'].unique())) # index 7\n",
    "print()\n",
    "\n",
    "print('personal_status: {}' .format(myData['personal_status'].unique())) # index 9\n",
    "myData.iloc[:, 9] = labelEncoder.fit_transform(myData.iloc[:, 9].values)\n",
    "print('personal_status: {}' .format(myData['personal_status'].unique())) # index 9\n",
    "print()\n",
    "\n",
    "print('other_parties: {}' .format(myData['other_parties'].unique())) # index 10\n",
    "myData.iloc[:, 10] = labelEncoder.fit_transform(myData.iloc[:, 10].values)\n",
    "print('other_parties: {}' .format(myData['other_parties'].unique())) # index 10\n",
    "print()\n",
    "\n",
    "print('property_magnitude: {}' .format(myData['property_magnitude'].unique())) # index 12\n",
    "myData.iloc[:, 12] = labelEncoder.fit_transform(myData.iloc[:, 12].values)\n",
    "print('property_magnitude: {}' .format(myData['property_magnitude'].unique())) # index 12\n",
    "print()\n",
    "\n",
    "print('other_payment_plans: {}' .format(myData['other_payment_plans'].unique())) # index 14\n",
    "myData.iloc[:, 14] = labelEncoder.fit_transform(myData.iloc[:, 14].values)\n",
    "print('other_payment_plans: {}' .format(myData['other_payment_plans'].unique())) # index 14\n",
    "print()\n",
    "\n",
    "print('housing: {}' .format(myData['housing'].unique())) # index 15\n",
    "myData.iloc[:, 15] = labelEncoder.fit_transform(myData.iloc[:, 15].values)\n",
    "print('housing: {}' .format(myData['housing'].unique())) # index 15\n",
    "print()\n",
    "\n",
    "print('job: {}' .format(myData['job'].unique())) # index 17\n",
    "myData.iloc[:, 17] = labelEncoder.fit_transform(myData.iloc[:, 17].values)\n",
    "print('job: {}' .format(myData['job'].unique())) # index 17\n",
    "print()\n",
    "\n",
    "print('own_telephone: {}' .format(myData['own_telephone'].unique())) # index 19\n",
    "myData.iloc[:, 19] = labelEncoder.fit_transform(myData.iloc[:, 19].values)\n",
    "print('own_telephone: {}' .format(myData['own_telephone'].unique())) # index 19\n",
    "print()\n",
    "\n",
    "print('foreign_worker: {}' .format(myData['foreign_worker'].unique())) # index 20\n",
    "myData.iloc[:, 20] = labelEncoder.fit_transform(myData.iloc[:, 20].values)\n",
    "print('foreign_worker: {}' .format(myData['foreign_worker'].unique())) # index 20\n",
    "print()\n",
    "\n",
    "print('class: {}' .format(myData['class'].unique())) # index 21\n",
    "myData.iloc[:, 21] = labelEncoder.fit_transform(myData.iloc[:, 21].values)\n",
    "print('class: {}' .format(myData['class'].unique())) # index 21\n",
    "print()"
   ]
  },
  {
   "cell_type": "code",
   "execution_count": 9,
   "id": "1028389f",
   "metadata": {},
   "outputs": [
    {
     "data": {
      "text/plain": [
       "id                         int64\n",
       "over_draft                object\n",
       "credit_usage               int64\n",
       "credit_history             int32\n",
       "purpose                    int32\n",
       "current_balance            int64\n",
       "Average_Credit_Balance     int32\n",
       "employment                 int32\n",
       "location                   int64\n",
       "personal_status            int32\n",
       "other_parties              int32\n",
       "residence_since            int64\n",
       "property_magnitude         int32\n",
       "cc_age                     int64\n",
       "other_payment_plans        int32\n",
       "housing                    int32\n",
       "existing_credits           int64\n",
       "job                        int32\n",
       "num_dependents             int64\n",
       "own_telephone              int32\n",
       "foreign_worker             int32\n",
       "class                      int32\n",
       "dtype: object"
      ]
     },
     "execution_count": 9,
     "metadata": {},
     "output_type": "execute_result"
    }
   ],
   "source": [
    "# checking my work\n",
    "myData.dtypes"
   ]
  },
  {
   "cell_type": "code",
   "execution_count": 10,
   "id": "eb90dcc8",
   "metadata": {},
   "outputs": [],
   "source": [
    "# Removing over_draft column because I won't be using that, \n",
    "#    it's unclear what the data means\n",
    "\n",
    "myData = myData.drop(['over_draft'], axis = 1)"
   ]
  },
  {
   "cell_type": "code",
   "execution_count": 11,
   "id": "ba06ae04",
   "metadata": {
    "scrolled": false
   },
   "outputs": [
    {
     "data": {
      "image/png": "[encoded data removed]",
      "text/plain": [
       "<Figure size 1440x1440 with 25 Axes>"
      ]
     },
     "metadata": {
      "needs_background": "light"
     },
     "output_type": "display_data"
    }
   ],
   "source": [
    "# Plotting a histogram of each parameter\n",
    "myData.hist(figsize = (20,20))\n",
    "plt.show()"
   ]
  },
  {
   "cell_type": "code",
   "execution_count": 12,
   "id": "c68139bb",
   "metadata": {
    "scrolled": true
   },
   "outputs": [
    {
     "data": {
      "image/png": "[encoded data removed]",
      "text/plain": [
       "<Figure size 864x648 with 2 Axes>"
      ]
     },
     "metadata": {
      "needs_background": "light"
     },
     "output_type": "display_data"
    }
   ],
   "source": [
    "# Correlation matrix to show which features are most important for classification\n",
    "corrmat = myData.corr()\n",
    "fig = plt.figure(figsize = (12, 9))\n",
    "\n",
    "sns.heatmap(corrmat, vmax = .8, square = True)\n",
    "plt.show()"
   ]
  },
  {
   "cell_type": "code",
   "execution_count": 13,
   "id": "aba99f0b",
   "metadata": {
    "scrolled": false
   },
   "outputs": [
    {
     "name": "stdout",
     "output_type": "stream",
     "text": [
      "0.42857142857142855\n",
      "Fraud cases: 300\n",
      "Valid cases: 700\n"
     ]
    }
   ],
   "source": [
    "# Creating variables for fraud versus not fraud\n",
    "fraud = myData[myData['class'] == 0]\n",
    "notFraud = myData[myData['class'] == 1]\n",
    "\n",
    "outlier_fraction = len(fraud) / float(len(notFraud))\n",
    "print(outlier_fraction)\n",
    "     \n",
    "print('Fraud cases: {}'.format(len(fraud)))\n",
    "print('Valid cases: {}'.format(len(notFraud)))"
   ]
  },
  {
   "cell_type": "code",
   "execution_count": 14,
   "id": "8b6bd55f",
   "metadata": {},
   "outputs": [
    {
     "data": {
      "text/plain": [
       "id                        int64\n",
       "credit_usage              int64\n",
       "credit_history            int32\n",
       "purpose                   int32\n",
       "current_balance           int64\n",
       "Average_Credit_Balance    int32\n",
       "employment                int32\n",
       "location                  int64\n",
       "personal_status           int32\n",
       "other_parties             int32\n",
       "residence_since           int64\n",
       "property_magnitude        int32\n",
       "cc_age                    int64\n",
       "other_payment_plans       int32\n",
       "housing                   int32\n",
       "existing_credits          int64\n",
       "job                       int32\n",
       "num_dependents            int64\n",
       "own_telephone             int32\n",
       "foreign_worker            int32\n",
       "class                     int32\n",
       "dtype: object"
      ]
     },
     "execution_count": 14,
     "metadata": {},
     "output_type": "execute_result"
    }
   ],
   "source": [
    "myData.dtypes"
   ]
  },
  {
   "cell_type": "code",
   "execution_count": 15,
   "id": "095f2ce3",
   "metadata": {},
   "outputs": [],
   "source": [
    "# Splitting the data into x and y variables for the algorithm to use and learn from\n",
    "\n",
    "x = myData.iloc[:, 0:20].values\n",
    "# Here I included index 20 because I read that this syntax is exclusive and does not include \n",
    "#    the final value, I want it to include indexes 0 - 19\n",
    "\n",
    "y = myData.iloc[:, 20].values"
   ]
  },
  {
   "cell_type": "code",
   "execution_count": 16,
   "id": "2ab0de55",
   "metadata": {},
   "outputs": [],
   "source": [
    "# Splitting the data into 80% training, 20% testing using an sklearn package\n",
    "\n",
    "from sklearn.model_selection import train_test_split\n",
    "x_train, x_test, y_train, y_test = train_test_split(x, y, \n",
    "                test_size=0.2, random_state=0)"
   ]
  },
  {
   "cell_type": "code",
   "execution_count": 17,
   "id": "93df2a0a",
   "metadata": {},
   "outputs": [],
   "source": [
    "# Scaling the data\n",
    "from sklearn.preprocessing import StandardScaler\n",
    "sc = StandardScaler()\n",
    "x_train = sc.fit_transform(x_train)\n",
    "x_test = sc.fit_transform(x_test)"
   ]
  },
  {
   "cell_type": "code",
   "execution_count": 18,
   "id": "04273fbf",
   "metadata": {},
   "outputs": [],
   "source": [
    "# Fitting the modell in the Decision Tree classifier\n",
    "from sklearn.tree import DecisionTreeClassifier\n",
    "classifier = DecisionTreeClassifier()\n",
    "classifier = classifier.fit(x_train, y_train)"
   ]
  },
  {
   "cell_type": "code",
   "execution_count": 19,
   "id": "c45a1503",
   "metadata": {
    "scrolled": false
   },
   "outputs": [
    {
     "name": "stdout",
     "output_type": "stream",
     "text": [
      "[[ 22  36]\n",
      " [ 37 105]]\n",
      "              precision    recall  f1-score   support\n",
      "\n",
      "           0       0.37      0.38      0.38        58\n",
      "           1       0.74      0.74      0.74       142\n",
      "\n",
      "    accuracy                           0.64       200\n",
      "   macro avg       0.56      0.56      0.56       200\n",
      "weighted avg       0.64      0.64      0.64       200\n",
      "\n"
     ]
    }
   ],
   "source": [
    "# Making predictions\n",
    "y_pred = classifier.predict(x_test)\n",
    "\n",
    "# Confusion matrix to check accuracy\n",
    "from sklearn.metrics import classification_report, confusion_matrix\n",
    "print(confusion_matrix(y_test, y_pred))\n",
    "print(classification_report(y_test, y_pred))"
   ]
  },
  {
   "cell_type": "code",
   "execution_count": 20,
   "id": "78b81841",
   "metadata": {},
   "outputs": [],
   "source": [
    "# Summary:\n",
    "#    In my algorithm, nonfraudulent transactions are represented with a 1 and fraudulent\n",
    "#    transactions are represented with a 0\n",
    "\n",
    "#    The algorithm predicted fraudulent transactions with 57% of accuracy\n",
    "#    The good news is, the algorithm did predict fraudulent transactions with a 72% precision\n"
   ]
  },
  {
   "cell_type": "markdown",
   "id": "3148d7cc",
   "metadata": {},
   "source": [
    "### References\n",
    "Eduonix Learning Solutions. (2018). Build A Complete Project In Machine Learning | Credit Card Fraud Detection 2019 | Eduonix [YouTube Video]. In YouTube. https://www.youtube.com/watch?v=gCWBFyFTxVU&feature=youtu.be\n",
    "\n",
    "Elam, D. (2023, June 27). Unit 3 Live Chat: Machine Learning Applications [chat]. Retrieved from Colorado Technical University, Virtual Campus, CS379-2303A-01: https://campus.ctuonline.edu\n",
    "\n",
    "Simplilearn. (2020, December 4). What is a Confusion Matrix in Machine Learning? Simplilearn.com; Simplilearn. https://www.simplilearn.com/tutorials/machine-learning-tutorial/confusion-matrix-machine-learning\n",
    "\n",
    "Tracyrenee. (2021, July 22). Using KMeans clustering to predict survivors of the Titanic. Medium; MLearning.ai. https://medium.com/mlearning-ai/using-kmeans-clustering-to-predict-survivors-of-the-titanic-ae3d3e959eb8"
   ]
  }
 ],
 "metadata": {
  "kernelspec": {
   "display_name": "Python 3",
   "language": "python",
   "name": "python3"
  },
  "language_info": {
   "codemirror_mode": {
    "name": "ipython",
    "version": 3
   },
   "file_extension": ".py",
   "mimetype": "text/x-python",
   "name": "python",
   "nbconvert_exporter": "python",
   "pygments_lexer": "ipython3",
   "version": "3.8.8"
  }
 },
 "nbformat": 4,
 "nbformat_minor": 5
}
